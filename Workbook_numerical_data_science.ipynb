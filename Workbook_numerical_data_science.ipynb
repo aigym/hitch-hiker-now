{
 "cells": [
  {
   "cell_type": "markdown",
   "metadata": {},
   "source": [
    "## Revision History\n",
    "\n",
    "Update with your details here\n",
    "\n",
    "Name: \n",
    "\n",
    "Date: "
   ]
  },
  {
   "cell_type": "markdown",
   "metadata": {},
   "source": [
    "## Basic problem statement \n",
    "Explore, understand and build on what factors influence energy consumption – for appliances and light - using the provided data for a house in Belgium. \n",
    "\n",
    "If it is feasible and/or required to build a model \n",
    "- can you outline the approach, \n",
    "- build a proof of concept model with the available data and \n",
    "- architect a scenario where/how the model could be used. \n",
    "\n",
    "Please answer below questions based on your understanding\n",
    "- How can we improve this perceived system?\n",
    "- what challenges do you see in deploying this system?\n",
    "- can you propose a timeline based on this PoC for this development?\n",
    "\n",
    "Please use the notebook to record your thought process and code. Once you have performed the assessment, respond back with your solution in 5 days. You will be required to walk through the notebook in a technical discussion. \n",
    "\n",
    "A basic workflow is defined via code comments, which you may use. Please ensure to include your references in the last cell. "
   ]
  },
  {
   "cell_type": "markdown",
   "metadata": {},
   "source": [
    "## Data Set Information\n",
    "\n",
    "The data set is at 10 min for about 4.5 months. The house temperature and humidity conditions were monitored with a ZigBee wireless sensor network. Each wireless node transmitted the temperature and humidity conditions around 3.3 min. Then, the wireless data was averaged for 10 minutes periods. The energy data was logged every 10 minutes with m-bus energy meters. Weather from the nearest airport weather station (Chievres Airport, Belgium) was downloaded from a public data set from Reliable Prognosis (rp5.ru), and merged together with the experimental data sets using the date and time column.\n",
    "\n",
    "Data repository : [link](http://archive.ics.uci.edu/ml/machine-learning-databases/00374/energydata_complete.csv)"
   ]
  },
  {
   "cell_type": "markdown",
   "metadata": {},
   "source": [
    "## Attribute Information\n",
    "* date : time year-month-day hour:minute:second\n",
    "* Appliances, energy use in Wh \n",
    "* lights, energy use of light fixtures in the house in Wh \n",
    "* T1, Temperature in kitchen area, in Celsius \n",
    "* RH_1, Humidity in kitchen area, in % \n",
    "* T2, Temperature in living room area, in Celsius \n",
    "* RH_2, Humidity in living room area, in % \n",
    "* T3, Temperature in laundry room area \n",
    "* RH_3, Humidity in laundry room area, in % \n",
    "* T4, Temperature in office room, in Celsius \n",
    "* RH_4, Humidity in office room, in % \n",
    "* T5, Temperature in bathroom, in Celsius \n",
    "* RH_5, Humidity in bathroom, in % \n",
    "* T6, Temperature outside the building (north side), in Celsius \n",
    "* RH_6, Humidity outside the building (north side), in % \n",
    "* T7, Temperature in ironing room , in Celsius \n",
    "* RH_7, Humidity in ironing room, in % \n",
    "* T8, Temperature in teenager room 2, in Celsius \n",
    "* RH_8, Humidity in teenager room 2, in % \n",
    "* T9, Temperature in parents room, in Celsius \n",
    "* RH_9, Humidity in parents room, in % \n",
    "* To, Temperature outside (from Chievres weather station), in Celsius \n",
    "* Pressure (from Chievres weather station), in mm Hg \n",
    "* RH_out, Humidity outside (from Chievres weather station), in % \n",
    "* Wind speed (from Chievres weather station), in m/s \n",
    "* Visibility (from Chievres weather station), in km \n",
    "* Tdewpoint (from Chievres weather station), in Deg C"
   ]
  },
  {
   "cell_type": "code",
   "execution_count": 1,
   "metadata": {},
   "outputs": [],
   "source": [
    "## The libraries you use"
   ]
  },
  {
   "cell_type": "code",
   "execution_count": null,
   "metadata": {},
   "outputs": [],
   "source": [
    "## Read data and basic data clean-up"
   ]
  },
  {
   "cell_type": "code",
   "execution_count": 2,
   "metadata": {},
   "outputs": [],
   "source": [
    "## strategy for missing value treatment"
   ]
  },
  {
   "cell_type": "code",
   "execution_count": 3,
   "metadata": {},
   "outputs": [],
   "source": [
    "## Data exploration"
   ]
  },
  {
   "cell_type": "code",
   "execution_count": null,
   "metadata": {},
   "outputs": [],
   "source": [
    "## key insights"
   ]
  },
  {
   "cell_type": "code",
   "execution_count": 197,
   "metadata": {},
   "outputs": [],
   "source": [
    "# feature engineering"
   ]
  },
  {
   "cell_type": "code",
   "execution_count": 4,
   "metadata": {},
   "outputs": [],
   "source": [
    "# model feasibility"
   ]
  },
  {
   "cell_type": "code",
   "execution_count": null,
   "metadata": {},
   "outputs": [],
   "source": [
    "# model iterations and selection"
   ]
  },
  {
   "cell_type": "code",
   "execution_count": null,
   "metadata": {},
   "outputs": [],
   "source": [
    "# model explainability"
   ]
  },
  {
   "cell_type": "markdown",
   "metadata": {},
   "source": [
    "## Summary and next steps"
   ]
  },
  {
   "cell_type": "markdown",
   "metadata": {},
   "source": [
    "## References (add your references below)\n",
    "[1] Luis M. Candanedo, Veronique Feldheim, Dominique Deramaix, Data driven prediction models of energy use of appliances in a low-energy house, Energy and Buildings, Volume 140, 1 April 2017, Pages 81-97, ISSN 0378-7788,\n",
    "\n",
    "[2] Python documentation"
   ]
  }
 ],
 "metadata": {
  "kernelspec": {
   "display_name": "Python 3",
   "language": "python",
   "name": "python3"
  },
  "language_info": {
   "codemirror_mode": {
    "name": "ipython",
    "version": 3
   },
   "file_extension": ".py",
   "mimetype": "text/x-python",
   "name": "python",
   "nbconvert_exporter": "python",
   "pygments_lexer": "ipython3",
   "version": "3.6.5"
  }
 },
 "nbformat": 4,
 "nbformat_minor": 4
}
